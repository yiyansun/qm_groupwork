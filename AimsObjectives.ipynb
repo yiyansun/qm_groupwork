{
 "cells": [
  {
   "cell_type": "markdown",
   "metadata": {},
   "source": [
    "**Proposed title:**\n",
    "Investigating the relationship between the accessibility to green/ blue space and health conditions in London by boroughs. \n"
   ]
  },
  {
   "cell_type": "markdown",
   "metadata": {},
   "source": [
    "\n",
    "**Aim:** To assess the importance of having sufficient and accessible green/ blue space to residents in each borough, in terms of their physical and mental health conditions. \n"
   ]
  },
  {
   "cell_type": "markdown",
   "metadata": {},
   "source": [
    "\n",
    "**Objectives:** To explore the availability of green space in each borough for residents to have leisure activities and exercises to achieve the “three domains of health” – physical, mental and social. \n"
   ]
  },
  {
   "cell_type": "markdown",
   "metadata": {},
   "source": [
    "\n",
    "**Assumptions:** The availability of healthcare services for both physical and mental health is the same for population in each borough.\n"
   ]
  },
  {
   "cell_type": "markdown",
   "metadata": {},
   "source": [
    "\n",
    "**Research questions:**\n",
    "1.\tWhat is the spatial distribution pattern of mental and physical health? Is (are) there any borough(s) with significantly poor performance in health conditions?\n",
    "2.\tWhat is the prevalent health problem (both mentally and physically), and can it be avoided by increasing exposure to green space?\n",
    "3.\tTo what extent the accessibility of green space has an impact on mental and physical health respectively?\n"
   ]
  }
 ],
 "metadata": {
  "kernelspec": {
   "display_name": "Python 3",
   "language": "python",
   "name": "python3"
  },
  "language_info": {
   "name": "python",
   "version": "3.9.6"
  }
 },
 "nbformat": 4,
 "nbformat_minor": 2
}
